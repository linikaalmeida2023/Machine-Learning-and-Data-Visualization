{
 "cells": [
  {
   "cell_type": "markdown",
   "id": "611cd685",
   "metadata": {},
   "source": [
    "# INTEGRATED CA - MACHINE LEARNING AND DATA VISUALISATION\n",
    "\n",
    "### Student - Linika Almeida, ID - 2023045"
   ]
  },
  {
   "cell_type": "markdown",
   "id": "58b38e65",
   "metadata": {},
   "source": [
    "### DESCRIPTION\n",
    "\n",
    "The dataset was collected in the kaggle website. It provides information about Customer Shopping Preferences and offers insights into consumer behavior and purchasing patterns. This dataset provide a range of customer attributes including age, gender, purchase history, preferred payment methods and more.\n",
    "\n",
    "##### Main Goal\n",
    "Use the dataset to apply filtering, market basket and make a Dashboard.\n",
    "______________________\n",
    "\n",
    "#### The meaning of each column in the data is as below\n",
    "1. Customer ID - Unique identifier for each customer\n",
    "2. Age- Age of the customer\n",
    "3. Gender - Gender of the customer (Male/Female)\n",
    "4. Item Purchased - The item purchased by the customer\n",
    "5. Category - Category of the item purchased\n",
    "6. Purchase Amount (USD) - The amount of the purchase in USD\n",
    "7. Location - Location where the purchase was made\n",
    "8. Size - Size of the purchased item\n",
    "9. Color - Color of the purchased item\n",
    "10. Season - Season during which the purchase was made\n",
    "11. Review Rating - Rating given by the customer for the purchased item\n",
    "12. Subscription Status - Indicates if the customer has a subscription (Yes/No)\n",
    "13. Shipping Type - Type of shipping chosen by the customer\n",
    "14. Discount Applied - Indicates if a discount was applied to the purchase (Yes/No)\n",
    "15. Promo Code Used - Indicates if a promo code was used for the purchase (Yes/No)\n",
    "16. Previous Purchases - The total count of transactions concluded by the customer at the store, excluding the ongoing transaction\n",
    "17. Payment Method - Customer's most preferred payment method\n",
    "18. Frequency of Purchases - Frequency at which the customer makes purchases (e.g., Weekly, Fortnightly, Monthly)\n",
    "\n",
    "\n",
    "Github Repository: "
   ]
  },
  {
   "cell_type": "markdown",
   "id": "8b5887da",
   "metadata": {},
   "source": [
    "#### Import Libraries"
   ]
  },
  {
   "cell_type": "code",
   "execution_count": 149,
   "id": "8d29f4b9",
   "metadata": {},
   "outputs": [],
   "source": [
    "import warnings\n",
    "warnings.filterwarnings('ignore')\n",
    "\n",
    "import pandas as pd\n",
    "import time\n",
    "import numpy as np\n",
    "import matplotlib.pyplot as plt\n",
    "%matplotlib inline\n",
    "import seaborn as sns\n",
    "\n",
    "from surprise import Dataset, Reader, KNNBasic\n",
    "from surprise.model_selection import train_test_split\n",
    "from surprise import accuracy\n",
    "\n",
    "from sklearn.feature_extraction.text import TfidfVectorizer\n",
    "from sklearn.metrics.pairwise import linear_kernel\n",
    "\n",
    "from mlxtend.frequent_patterns import apriori, association_rules, fpgrowth\n",
    "from mlxtend.preprocessing import TransactionEncoder\n",
    "\n",
    "import plotly.express as px\n",
    "import plotly.graph_objects as go\n",
    "from ipywidgets import interact\n",
    "import ipywidgets as widgets\n",
    "from IPython.display import display\n",
    "import plotly.express as px\n",
    "\n",
    "import folium\n",
    "from ipywidgets import Layout\n",
    "from ipywidgets import Layout, VBox, HBox"
   ]
  },
  {
   "cell_type": "code",
   "execution_count": 215,
   "id": "94320774",
   "metadata": {},
   "outputs": [],
   "source": [
    "#pip install scikit-surprise"
   ]
  },
  {
   "cell_type": "code",
   "execution_count": 216,
   "id": "676550e3",
   "metadata": {},
   "outputs": [],
   "source": [
    "#pip install pandas plotly"
   ]
  },
  {
   "cell_type": "code",
   "execution_count": 217,
   "id": "adff1aa1",
   "metadata": {},
   "outputs": [],
   "source": [
    "#!pip install pandas plotly ipywidgets"
   ]
  },
  {
   "cell_type": "code",
   "execution_count": 218,
   "id": "c1c62ed0",
   "metadata": {},
   "outputs": [],
   "source": [
    "#!pip install --upgrade plotly"
   ]
  },
  {
   "cell_type": "code",
   "execution_count": 219,
   "id": "dfe56576",
   "metadata": {},
   "outputs": [],
   "source": [
    "#pip install dash"
   ]
  },
  {
   "cell_type": "code",
   "execution_count": 220,
   "id": "020184cb",
   "metadata": {},
   "outputs": [],
   "source": [
    "#pip install dash[all]"
   ]
  },
  {
   "cell_type": "code",
   "execution_count": 221,
   "id": "e79295cf",
   "metadata": {},
   "outputs": [],
   "source": [
    "#pip install dash dash-core-components dash-html-components plotly"
   ]
  },
  {
   "cell_type": "code",
   "execution_count": 222,
   "id": "5d0853b3",
   "metadata": {},
   "outputs": [],
   "source": [
    "#pip install folium"
   ]
  },
  {
   "cell_type": "code",
   "execution_count": 159,
   "id": "69a753fb",
   "metadata": {},
   "outputs": [],
   "source": [
    "# Read dataset\n",
    "df1 = pd.read_csv('shopping_trends.csv')"
   ]
  },
  {
   "cell_type": "markdown",
   "id": "e7ab2855",
   "metadata": {},
   "source": [
    "I will add some fields in this dataset such as Member Number, Item Quantity and Date to complement the dataset and achieve the requirements requested in this project"
   ]
  },
  {
   "cell_type": "code",
   "execution_count": 160,
   "id": "d1970825",
   "metadata": {},
   "outputs": [],
   "source": [
    "# Create new columns\n",
    "df2 = pd.DataFrame({\n",
    "    'Member_number': np.random.randint(1000, 2000, 3901),  \n",
    "    'Item_Quantity': np.random.randint(1, 50, 3901), \n",
    "    'Date': pd.date_range(start='2012-01-01', periods=3901, freq='D'),  \n",
    "})\n",
    "\n",
    "# Extract date information\n",
    "df2['year'] = df2['Date'].dt.year\n",
    "df2['month'] = df2['Date'].dt.month\n",
    "df2['day'] = df2['Date'].dt.day\n",
    "df2['day_of_week'] = df2['Date'].dt.day_of_week"
   ]
  },
  {
   "cell_type": "code",
   "execution_count": 161,
   "id": "946c9dea",
   "metadata": {},
   "outputs": [],
   "source": [
    "# Concat df1 and df2\n",
    "df = pd.concat([df1, df2], axis=1)"
   ]
  },
  {
   "cell_type": "markdown",
   "id": "58c0762f",
   "metadata": {},
   "source": [
    "### EXPLORATORY DATA ANALYSIS (EDA)"
   ]
  },
  {
   "cell_type": "markdown",
   "id": "75807eca",
   "metadata": {},
   "source": [
    "In the EDA we are going to do some assumptions, do a comprehension of the dataset and check missing values"
   ]
  },
  {
   "cell_type": "code",
   "execution_count": 162,
   "id": "345faf15",
   "metadata": {
    "scrolled": false
   },
   "outputs": [
    {
     "data": {
      "text/html": [
       "<div>\n",
       "<style scoped>\n",
       "    .dataframe tbody tr th:only-of-type {\n",
       "        vertical-align: middle;\n",
       "    }\n",
       "\n",
       "    .dataframe tbody tr th {\n",
       "        vertical-align: top;\n",
       "    }\n",
       "\n",
       "    .dataframe thead th {\n",
       "        text-align: right;\n",
       "    }\n",
       "</style>\n",
       "<table border=\"1\" class=\"dataframe\">\n",
       "  <thead>\n",
       "    <tr style=\"text-align: right;\">\n",
       "      <th></th>\n",
       "      <th>Customer ID</th>\n",
       "      <th>Age</th>\n",
       "      <th>Gender</th>\n",
       "      <th>Item Purchased</th>\n",
       "      <th>Category</th>\n",
       "      <th>Purchase Amount (USD)</th>\n",
       "      <th>Location</th>\n",
       "      <th>Size</th>\n",
       "      <th>Color</th>\n",
       "      <th>Season</th>\n",
       "      <th>...</th>\n",
       "      <th>Previous Purchases</th>\n",
       "      <th>Preferred Payment Method</th>\n",
       "      <th>Frequency of Purchases</th>\n",
       "      <th>Member_number</th>\n",
       "      <th>Item_Quantity</th>\n",
       "      <th>Date</th>\n",
       "      <th>year</th>\n",
       "      <th>month</th>\n",
       "      <th>day</th>\n",
       "      <th>day_of_week</th>\n",
       "    </tr>\n",
       "  </thead>\n",
       "  <tbody>\n",
       "    <tr>\n",
       "      <th>0</th>\n",
       "      <td>1.0</td>\n",
       "      <td>55.0</td>\n",
       "      <td>Male</td>\n",
       "      <td>Blouse</td>\n",
       "      <td>Clothing</td>\n",
       "      <td>53.0</td>\n",
       "      <td>Kentucky</td>\n",
       "      <td>L</td>\n",
       "      <td>Gray</td>\n",
       "      <td>Winter</td>\n",
       "      <td>...</td>\n",
       "      <td>14.0</td>\n",
       "      <td>Venmo</td>\n",
       "      <td>Fortnightly</td>\n",
       "      <td>1982</td>\n",
       "      <td>7</td>\n",
       "      <td>2012-01-01</td>\n",
       "      <td>2012</td>\n",
       "      <td>1</td>\n",
       "      <td>1</td>\n",
       "      <td>6</td>\n",
       "    </tr>\n",
       "    <tr>\n",
       "      <th>1</th>\n",
       "      <td>2.0</td>\n",
       "      <td>19.0</td>\n",
       "      <td>Male</td>\n",
       "      <td>Sweater</td>\n",
       "      <td>Clothing</td>\n",
       "      <td>64.0</td>\n",
       "      <td>Maine</td>\n",
       "      <td>L</td>\n",
       "      <td>Maroon</td>\n",
       "      <td>Winter</td>\n",
       "      <td>...</td>\n",
       "      <td>2.0</td>\n",
       "      <td>Cash</td>\n",
       "      <td>Fortnightly</td>\n",
       "      <td>1921</td>\n",
       "      <td>21</td>\n",
       "      <td>2012-01-02</td>\n",
       "      <td>2012</td>\n",
       "      <td>1</td>\n",
       "      <td>2</td>\n",
       "      <td>0</td>\n",
       "    </tr>\n",
       "    <tr>\n",
       "      <th>2</th>\n",
       "      <td>3.0</td>\n",
       "      <td>50.0</td>\n",
       "      <td>Male</td>\n",
       "      <td>Jeans</td>\n",
       "      <td>Clothing</td>\n",
       "      <td>73.0</td>\n",
       "      <td>Massachusetts</td>\n",
       "      <td>S</td>\n",
       "      <td>Maroon</td>\n",
       "      <td>Spring</td>\n",
       "      <td>...</td>\n",
       "      <td>23.0</td>\n",
       "      <td>Credit Card</td>\n",
       "      <td>Weekly</td>\n",
       "      <td>1568</td>\n",
       "      <td>13</td>\n",
       "      <td>2012-01-03</td>\n",
       "      <td>2012</td>\n",
       "      <td>1</td>\n",
       "      <td>3</td>\n",
       "      <td>1</td>\n",
       "    </tr>\n",
       "    <tr>\n",
       "      <th>3</th>\n",
       "      <td>4.0</td>\n",
       "      <td>21.0</td>\n",
       "      <td>Male</td>\n",
       "      <td>Sandals</td>\n",
       "      <td>Footwear</td>\n",
       "      <td>90.0</td>\n",
       "      <td>Rhode Island</td>\n",
       "      <td>M</td>\n",
       "      <td>Maroon</td>\n",
       "      <td>Spring</td>\n",
       "      <td>...</td>\n",
       "      <td>49.0</td>\n",
       "      <td>PayPal</td>\n",
       "      <td>Weekly</td>\n",
       "      <td>1898</td>\n",
       "      <td>1</td>\n",
       "      <td>2012-01-04</td>\n",
       "      <td>2012</td>\n",
       "      <td>1</td>\n",
       "      <td>4</td>\n",
       "      <td>2</td>\n",
       "    </tr>\n",
       "    <tr>\n",
       "      <th>4</th>\n",
       "      <td>5.0</td>\n",
       "      <td>45.0</td>\n",
       "      <td>Male</td>\n",
       "      <td>Blouse</td>\n",
       "      <td>Clothing</td>\n",
       "      <td>49.0</td>\n",
       "      <td>Oregon</td>\n",
       "      <td>M</td>\n",
       "      <td>Turquoise</td>\n",
       "      <td>Spring</td>\n",
       "      <td>...</td>\n",
       "      <td>31.0</td>\n",
       "      <td>PayPal</td>\n",
       "      <td>Annually</td>\n",
       "      <td>1374</td>\n",
       "      <td>21</td>\n",
       "      <td>2012-01-05</td>\n",
       "      <td>2012</td>\n",
       "      <td>1</td>\n",
       "      <td>5</td>\n",
       "      <td>3</td>\n",
       "    </tr>\n",
       "  </tbody>\n",
       "</table>\n",
       "<p>5 rows × 26 columns</p>\n",
       "</div>"
      ],
      "text/plain": [
       "   Customer ID   Age Gender Item Purchased  Category  Purchase Amount (USD)  \\\n",
       "0          1.0  55.0   Male         Blouse  Clothing                   53.0   \n",
       "1          2.0  19.0   Male        Sweater  Clothing                   64.0   \n",
       "2          3.0  50.0   Male          Jeans  Clothing                   73.0   \n",
       "3          4.0  21.0   Male        Sandals  Footwear                   90.0   \n",
       "4          5.0  45.0   Male         Blouse  Clothing                   49.0   \n",
       "\n",
       "        Location Size      Color  Season  ...  Previous Purchases  \\\n",
       "0       Kentucky    L       Gray  Winter  ...                14.0   \n",
       "1          Maine    L     Maroon  Winter  ...                 2.0   \n",
       "2  Massachusetts    S     Maroon  Spring  ...                23.0   \n",
       "3   Rhode Island    M     Maroon  Spring  ...                49.0   \n",
       "4         Oregon    M  Turquoise  Spring  ...                31.0   \n",
       "\n",
       "  Preferred Payment Method Frequency of Purchases Member_number Item_Quantity  \\\n",
       "0                    Venmo            Fortnightly          1982             7   \n",
       "1                     Cash            Fortnightly          1921            21   \n",
       "2              Credit Card                 Weekly          1568            13   \n",
       "3                   PayPal                 Weekly          1898             1   \n",
       "4                   PayPal               Annually          1374            21   \n",
       "\n",
       "        Date  year month day  day_of_week  \n",
       "0 2012-01-01  2012     1   1            6  \n",
       "1 2012-01-02  2012     1   2            0  \n",
       "2 2012-01-03  2012     1   3            1  \n",
       "3 2012-01-04  2012     1   4            2  \n",
       "4 2012-01-05  2012     1   5            3  \n",
       "\n",
       "[5 rows x 26 columns]"
      ]
     },
     "execution_count": 162,
     "metadata": {},
     "output_type": "execute_result"
    }
   ],
   "source": [
    "#Display the first few rows\n",
    "df.head()"
   ]
  },
  {
   "cell_type": "code",
   "execution_count": 163,
   "id": "51d7e068",
   "metadata": {},
   "outputs": [],
   "source": [
    "#Save new dataset with new columns in a csv file\n",
    "csv_file_name = 'shopping_trends_complete.csv'\n",
    "df.to_csv(csv_file_name, index=False)"
   ]
  },
  {
   "cell_type": "markdown",
   "id": "2374e192",
   "metadata": {},
   "source": [
    "Lets check some information in this dataset"
   ]
  },
  {
   "cell_type": "code",
   "execution_count": 164,
   "id": "db044e74",
   "metadata": {},
   "outputs": [
    {
     "name": "stdout",
     "output_type": "stream",
     "text": [
      "<class 'pandas.core.frame.DataFrame'>\n",
      "RangeIndex: 3901 entries, 0 to 3900\n",
      "Data columns (total 26 columns):\n",
      " #   Column                    Non-Null Count  Dtype         \n",
      "---  ------                    --------------  -----         \n",
      " 0   Customer ID               3900 non-null   float64       \n",
      " 1   Age                       3900 non-null   float64       \n",
      " 2   Gender                    3900 non-null   object        \n",
      " 3   Item Purchased            3900 non-null   object        \n",
      " 4   Category                  3900 non-null   object        \n",
      " 5   Purchase Amount (USD)     3900 non-null   float64       \n",
      " 6   Location                  3900 non-null   object        \n",
      " 7   Size                      3900 non-null   object        \n",
      " 8   Color                     3900 non-null   object        \n",
      " 9   Season                    3900 non-null   object        \n",
      " 10  Review Rating             3900 non-null   float64       \n",
      " 11  Subscription Status       3900 non-null   object        \n",
      " 12  Payment Method            3900 non-null   object        \n",
      " 13  Shipping Type             3900 non-null   object        \n",
      " 14  Discount Applied          3900 non-null   object        \n",
      " 15  Promo Code Used           3900 non-null   object        \n",
      " 16  Previous Purchases        3900 non-null   float64       \n",
      " 17  Preferred Payment Method  3900 non-null   object        \n",
      " 18  Frequency of Purchases    3900 non-null   object        \n",
      " 19  Member_number             3901 non-null   int32         \n",
      " 20  Item_Quantity             3901 non-null   int32         \n",
      " 21  Date                      3901 non-null   datetime64[ns]\n",
      " 22  year                      3901 non-null   int32         \n",
      " 23  month                     3901 non-null   int32         \n",
      " 24  day                       3901 non-null   int32         \n",
      " 25  day_of_week               3901 non-null   int32         \n",
      "dtypes: datetime64[ns](1), float64(5), int32(6), object(14)\n",
      "memory usage: 701.1+ KB\n"
     ]
    }
   ],
   "source": [
    "#Display the summary information\n",
    "df.info()"
   ]
  },
  {
   "cell_type": "code",
   "execution_count": 165,
   "id": "2293c151",
   "metadata": {},
   "outputs": [
    {
     "name": "stdout",
     "output_type": "stream",
     "text": [
      "Customer ID                 1\n",
      "Age                         1\n",
      "Gender                      1\n",
      "Item Purchased              1\n",
      "Category                    1\n",
      "Purchase Amount (USD)       1\n",
      "Location                    1\n",
      "Size                        1\n",
      "Color                       1\n",
      "Season                      1\n",
      "Review Rating               1\n",
      "Subscription Status         1\n",
      "Payment Method              1\n",
      "Shipping Type               1\n",
      "Discount Applied            1\n",
      "Promo Code Used             1\n",
      "Previous Purchases          1\n",
      "Preferred Payment Method    1\n",
      "Frequency of Purchases      1\n",
      "Member_number               0\n",
      "Item_Quantity               0\n",
      "Date                        0\n",
      "year                        0\n",
      "month                       0\n",
      "day                         0\n",
      "day_of_week                 0\n",
      "dtype: int64\n"
     ]
    }
   ],
   "source": [
    "#Show the number of missing (NaN values) per column\n",
    "print(df.isnull().sum())"
   ]
  },
  {
   "cell_type": "code",
   "execution_count": 166,
   "id": "ef8e2944",
   "metadata": {},
   "outputs": [
    {
     "data": {
      "text/plain": [
       "Customer ID                 3900\n",
       "Age                           53\n",
       "Gender                         2\n",
       "Item Purchased                25\n",
       "Category                       4\n",
       "Purchase Amount (USD)         81\n",
       "Location                      50\n",
       "Size                           4\n",
       "Color                         25\n",
       "Season                         4\n",
       "Review Rating                 26\n",
       "Subscription Status            2\n",
       "Payment Method                 6\n",
       "Shipping Type                  6\n",
       "Discount Applied               2\n",
       "Promo Code Used                2\n",
       "Previous Purchases            50\n",
       "Preferred Payment Method       6\n",
       "Frequency of Purchases         7\n",
       "Member_number                978\n",
       "Item_Quantity                 49\n",
       "Date                        3901\n",
       "year                          11\n",
       "month                         12\n",
       "day                           31\n",
       "day_of_week                    7\n",
       "dtype: int64"
      ]
     },
     "execution_count": 166,
     "metadata": {},
     "output_type": "execute_result"
    }
   ],
   "source": [
    "#Show number of unique values per column\n",
    "df.nunique()"
   ]
  },
  {
   "cell_type": "markdown",
   "id": "10f4a557",
   "metadata": {},
   "source": [
    "##### In a previous analyse is possible to notice:\n",
    "\n",
    "In data.info this dataset is distributed in 3901 entries and 25 columns. And there are data with different type, being float64, int32, object and datetime64\n",
    "\n",
    "In df.type we observed there are datetime64(1), float64(5), int32(6), object(14).\n",
    "\n",
    "isnull().sum() shows the columns  presents only one line of missing values in this dataset.\n",
    "___"
   ]
  },
  {
   "cell_type": "markdown",
   "id": "d014cd92",
   "metadata": {},
   "source": [
    "#### Now I am going to investigate the dataset to get some insigts\n",
    "* Make some plots\n",
    "* Check Correlation"
   ]
  },
  {
   "cell_type": "code",
   "execution_count": 167,
   "id": "bde83807",
   "metadata": {},
   "outputs": [
    {
     "data": {
      "image/png": "[encoded data removed]",
      "text/plain": [
       "<Figure size 700x400 with 2 Axes>"
      ]
     },
     "metadata": {},
     "output_type": "display_data"
    }
   ],
   "source": [
    "# Set white background\n",
    "sns.set_style(\"whitegrid\")\n",
    "\n",
    "# Define colors\n",
    "colors = ['#7FB3D5', '#FF5555']\n",
    "sns.set_palette(colors)\n",
    "\n",
    "# Figure with two plots\n",
    "fig, axes = plt.subplots(nrows=1, ncols=2, figsize=(7, 4))\n",
    "fig.patch.set_facecolor('white')  # Set background color for the figure\n",
    "\n",
    "# Plot for Heart Stroke Cases\n",
    "ax1 = sns.countplot(x='Gender', data=df, order=df['Gender'].value_counts().index, ax=axes[0])\n",
    "ax1.set_title('GENDER (UNITS)', fontsize=12, fontweight='bold')\n",
    "ax1.set_xlabel('Customer per Gender', fontsize=10)\n",
    "ax1.set_ylabel('Count', fontsize=10)\n",
    "ax1.grid(False)\n",
    "\n",
    "# Remove border around the bar plot\n",
    "for spine in ax1.spines.values():\n",
    "    spine.set_visible(False)\n",
    "\n",
    "# Display the count values on the bars\n",
    "for p in ax1.patches:\n",
    "    ax1.annotate('{:.0f}'.format(p.get_height()), (p.get_x() + 0.30, p.get_height() + 8), fontsize=10)\n",
    "\n",
    "# Plot Pie chart with percentual for Gender\n",
    "ax2 = plt.subplot(1, 2, 2)\n",
    "explode = (0.1, 0) if len(df['Gender'].unique()) == 2 else None\n",
    "ax2.pie(df['Gender'].value_counts(), labels=df['Gender'].value_counts().index, autopct='%1.1f%%', startangle=90, explode=explode, colors=colors)\n",
    "ax2.set_title('GENDER (%)', fontsize=12, fontweight='bold')\n",
    "ax2.set_ylabel('')\n",
    "\n",
    "# Set background color for the subplot\n",
    "ax2.set_facecolor('white')\n",
    "\n",
    "# Show plot\n",
    "plt.tight_layout()\n",
    "plt.show()\n"
   ]
  },
  {
   "cell_type": "markdown",
   "id": "8c7c47ff",
   "metadata": {},
   "source": [
    "In the graphic above the number of coustumer per gender is equivalent 68% for Male and 32% for Female"
   ]
  },
  {
   "cell_type": "code",
   "execution_count": 168,
   "id": "b837b265",
   "metadata": {},
   "outputs": [
    {
     "name": "stdout",
     "output_type": "stream",
     "text": [
      "The 5 most common category are:\n",
      "Category\n",
      "Clothing       1737\n",
      "Accessories    1240\n",
      "Footwear        599\n",
      "Outerwear       324\n",
      "Name: count, dtype: int64\n"
     ]
    }
   ],
   "source": [
    "# Count the frequency of each unique Category\n",
    "category_counts = df['Category'].value_counts()\n",
    "\n",
    "# Get the 4 most common Category\n",
    "top_4_category = category_counts.head(4)\n",
    "\n",
    "# Print the results\n",
    "print(\"The 5 most common category are:\")\n",
    "print(top_4_category)"
   ]
  },
  {
   "cell_type": "code",
   "execution_count": 169,
   "id": "bf664a62",
   "metadata": {},
   "outputs": [
    {
     "data": {
      "image/png": "[encoded data removed]",
      "text/plain": [
       "<Figure size 1000x500 with 1 Axes>"
      ]
     },
     "metadata": {},
     "output_type": "display_data"
    }
   ],
   "source": [
    "# Create a Pareto chart\n",
    "plt.figure(figsize=(10, 5))\n",
    "\n",
    "# Define a list of distinct colors (colorblind-friendly)\n",
    "colors = ['#1f77b4', '#ff7f0e', '#2ca02c', '#d62728', '#9467bd']\n",
    "\n",
    "# Create the Pareto chart with custom colors\n",
    "for i, (Category, count) in enumerate(zip(top_4_category.index, top_4_category.values)):\n",
    "    plt.bar(Category, count, color=colors[i])\n",
    "    \n",
    "    # Add percentage on top of each bar\n",
    "    percentage = (count / top_4_category.sum()) * 100\n",
    "    plt.text(Category, count + 1, f'{percentage:.1f}%', ha='center', fontsize=10, fontweight='normal')\n",
    "\n",
    "plt.xlabel('Category', fontsize=12, fontweight='normal', fontname='Arial')\n",
    "plt.ylabel('Count', fontsize=12, fontweight='normal', fontname='Arial')\n",
    "plt.title('TOP 4 COMMON CATEGORY', fontsize=14, fontweight='bold', fontname='Arial')\n",
    "plt.xticks(rotation=45, ha='right')\n",
    "\n",
    "# Remove the grid lines\n",
    "plt.grid(False)\n",
    "\n",
    "# Rotate the x-axis labels\n",
    "plt.xticks(rotation=0, ha='center')\n",
    "\n",
    "# Add a border around the figure\n",
    "for spine in plt.gca().spines.values():\n",
    "    spine.set_linewidth(0.5)\n",
    "    spine.set_color('black')\n",
    "\n",
    "plt.show()"
   ]
  },
  {
   "cell_type": "markdown",
   "id": "c0838065",
   "metadata": {},
   "source": [
    "The plot show the most commum category, being in first place of purchased for the customer the Category of Chothing with 44.5%, followed by Acessories, Footwear and in the last position Outerwear with 8.3%."
   ]
  },
  {
   "cell_type": "code",
   "execution_count": 170,
   "id": "950ae510",
   "metadata": {},
   "outputs": [
    {
     "data": {
      "image/png": "[encoded data removed]",
      "text/plain": [
       "<Figure size 1000x500 with 1 Axes>"
      ]
     },
     "metadata": {},
     "output_type": "display_data"
    }
   ],
   "source": [
    "#Plot the purchased size\n",
    "\n",
    "# Assuming 'Size' is a categorical variable \n",
    "size_counts = df['Size'].value_counts()\n",
    "\n",
    "# Use a Seaborn color palette\n",
    "colors = sns.color_palette('colorblind', len(size_counts))\n",
    "\n",
    "#Define figure\n",
    "plt.figure(figsize = (10, 5))\n",
    "ax = df['Size'].value_counts().plot(kind = 'bar', color = colors, rot = 0)\n",
    "ax.set_xticklabels(('Medium', 'Large', 'Small', 'Extra Large'))\n",
    "\n",
    "for p in ax.patches:\n",
    "    ax.annotate(int(p.get_height()), (p.get_x() + 0.25, p.get_height() + 1), ha = 'center', va = 'bottom', color = 'black')\n",
    "    ax.tick_params(axis = 'both', labelsize = 12)\n",
    "\n",
    "plt.xlabel('Size', fontsize=12, fontweight='normal', fontname='Arial')\n",
    "plt.ylabel('Count', fontsize=12, fontweight='normal', fontname='Arial')\n",
    "plt.title('PURCHASED SIZE', fontsize=14, fontweight='bold', fontname='Arial')\n",
    "plt.xticks(rotation=45, ha='right')\n",
    "\n",
    "# Remove the grid lines\n",
    "plt.grid(False)\n",
    "\n",
    "# Rotate the x-axis labels\n",
    "plt.xticks(rotation=0, ha='center')\n",
    "\n",
    "# Add a border around the figure\n",
    "for spine in plt.gca().spines.values():\n",
    "    spine.set_linewidth(0.5)\n",
    "    spine.set_color('black')\n",
    "\n",
    "plt.show()"
   ]
  },
  {
   "cell_type": "markdown",
   "id": "f2b60faf",
   "metadata": {},
   "source": [
    "The most purchased size is Medium, followed by Large, Small and in the last position Extra large"
   ]
  },
  {
   "cell_type": "code",
   "execution_count": 171,
   "id": "db9f0519",
   "metadata": {},
   "outputs": [
    {
     "data": {
      "image/png": "[encoded data removed]",
      "text/plain": [
       "<Figure size 1000x500 with 1 Axes>"
      ]
     },
     "metadata": {},
     "output_type": "display_data"
    }
   ],
   "source": [
    "#Plot the purchased size\n",
    "\n",
    "# Assuming 'Size' is a categorical variable \n",
    "season_counts = df['Season'].value_counts()\n",
    "\n",
    "# Use a Seaborn color palette\n",
    "colors = sns.color_palette('pastel', len(season_counts))\n",
    "\n",
    "#Define figure\n",
    "plt.figure(figsize = (10, 5))\n",
    "ax = df['Season'].value_counts().plot(kind = 'bar', color = colors, rot = 0)\n",
    "ax.set_xticklabels(('Spring', 'Fall', 'Winter', 'Summer'))\n",
    "\n",
    "for p in ax.patches:\n",
    "    ax.annotate(int(p.get_height()), (p.get_x() + 0.25, p.get_height() + 1), ha = 'center', va = 'bottom', color = 'black')\n",
    "    ax.tick_params(axis = 'both', labelsize = 12)\n",
    "\n",
    "plt.xlabel('Season', fontsize=12, fontweight='normal', fontname='Arial')\n",
    "plt.ylabel('Count', fontsize=12, fontweight='normal', fontname='Arial')\n",
    "plt.title('PURCHASED PER SEASON', fontsize=14, fontweight='bold', fontname='Arial')\n",
    "plt.xticks(rotation=45, ha='right')\n",
    "\n",
    "# Remove the grid lines\n",
    "plt.grid(False)\n",
    "\n",
    "# Rotate the x-axis labels\n",
    "plt.xticks(rotation=0, ha='center')\n",
    "\n",
    "# Add a border around the figure\n",
    "for spine in plt.gca().spines.values():\n",
    "    spine.set_linewidth(0.5)\n",
    "    spine.set_color('black')\n",
    "\n",
    "plt.show()"
   ]
  },
  {
   "cell_type": "markdown",
   "id": "09ec86de",
   "metadata": {},
   "source": [
    "Customers usually shopping more during the spring and fall season, and during the summer do less shopping"
   ]
  }
 ],
 "metadata": {
  "kernelspec": {
   "display_name": "Python 3 (ipykernel)",
   "language": "python",
   "name": "python3"
  },
  "language_info": {
   "codemirror_mode": {
    "name": "ipython",
    "version": 3
   },
   "file_extension": ".py",
   "mimetype": "text/x-python",
   "name": "python",
   "nbconvert_exporter": "python",
   "pygments_lexer": "ipython3",
   "version": "3.11.5"
  }
 },
 "nbformat": 4,
 "nbformat_minor": 5
}
